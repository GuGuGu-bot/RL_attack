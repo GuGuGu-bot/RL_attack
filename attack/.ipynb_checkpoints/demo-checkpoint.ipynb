{
 "cells": [
  {
   "cell_type": "code",
   "execution_count": 1,
   "metadata": {},
   "outputs": [],
   "source": [
    "import numpy as np\n",
    "import torch as th\n",
    "import sys\n",
    "sys.path.append(\"..\")\n",
    "from models import loader"
   ]
  },
  {
   "cell_type": "markdown",
   "metadata": {},
   "source": [
    "# Maxmize $D_{KL}$\n",
    "$$\n",
    "\\begin{aligned}\n",
    "\\underset{\\hat{s} \\in B(s)}{\\arg \\min } L_{\\operatorname{MAD}}(\\hat{s}) &=\\underset{\\hat{s} \\in B(s)}{\\arg \\max } D_{\\mathrm{KL}}(\\pi(\\cdot \\mid s) \\| \\pi(\\cdot \\mid \\hat{s})) \\\\\n",
    "&=\\underset{\\hat{s} \\in B(s)}{\\arg \\max }\\left(\\pi_{\\theta_{\\pi}}(s)-\\pi_{\\theta_{\\pi}}(\\hat{s})\\right)^{\\top} \\Sigma_s^{-1}\\left(\\pi_{\\theta_{\\pi}}(s)-\\pi_{\\theta_{\\pi}}(\\hat{s})\\right)\n",
    "\\end{aligned}\n",
    "$$"
   ]
  },
  {
   "cell_type": "code",
   "execution_count": 2,
   "metadata": {},
   "outputs": [
    {
     "data": {
      "text/plain": [
       "tensor(-11.3996, grad_fn=<NegBackward>)"
      ]
     },
     "execution_count": 2,
     "metadata": {},
     "output_type": "execute_result"
    }
   ],
   "source": [
    "pi_net = loader.get_actor_net(\"AntBulletEnv-v0\", \"ppo2\")\n",
    "\n",
    "if pi_net.logstd is not None:\n",
    "    sigma_inv = 1 / th.exp(pi_net.logstd)\n",
    "\n",
    "\n",
    "def loss_fn(s_0, s_hat):\n",
    "    diff = pi_net(s_0) - pi_net(s_hat)\n",
    "    return -th.sum(diff*sigma_inv*diff)\n",
    "\n",
    "\n",
    "s_0 = th.zeros(28)\n",
    "s_hat = th.ones(28)\n",
    "loss_fn(s_0, s_hat)"
   ]
  },
  {
   "cell_type": "code",
   "execution_count": 10,
   "metadata": {},
   "outputs": [
    {
     "data": {
      "text/plain": [
       "array([ 1., -1.,  1.,  1., -1.,  1., -1., -1., -1.,  1., -1., -1.,  1.,\n",
       "       -1.,  1., -1.,  1., -1., -1.,  1., -1.,  1., -1., -1., -1., -1.,\n",
       "       -1.,  1.], dtype=float32)"
      ]
     },
     "execution_count": 10,
     "metadata": {},
     "output_type": "execute_result"
    }
   ],
   "source": [
    "def fgsm():\n",
    "    s_hat = th.nn.Parameter(s_0 + delta, requires_grad=True)\n",
    "    loss = loss_fn(s_0, s_hat)\n",
    "    loss.backward()\n",
    "\n",
    "    np.sign(s_hat.grad.detach().cpu().numpy()) "
   ]
  },
  {
   "cell_type": "code",
   "execution_count": 8,
   "metadata": {},
   "outputs": [
    {
     "data": {
      "text/plain": [
       "tensor([0.9925, 1.0075, 0.9925, 0.9925, 1.0075, 0.9925, 1.0075, 1.0075, 1.0075,\n",
       "        0.9925, 1.0075, 1.0075, 0.9925, 1.0075, 0.9925, 1.0075, 0.9925, 1.0075,\n",
       "        1.0075, 0.9925, 1.0075, 1.0069, 1.0075, 1.0075, 1.0075, 0.9928, 1.0075,\n",
       "        0.9925])"
      ]
     },
     "execution_count": 8,
     "metadata": {},
     "output_type": "execute_result"
    }
   ],
   "source": [
    "def pgd(s_0, loss_fn, delta = 1e-5, l_inf_norm = 0.0075, lr=1e-3, iter_num=10):\n",
    "    s_hat = th.nn.Parameter(s_0+delta, requires_grad=True)\n",
    "    optimizer = th.optim.Adam([s_hat], lr=lr)\n",
    "\n",
    "    for _ in range(iter_num):\n",
    "        optimizer.zero_grad()\n",
    "        loss = loss_fn(s_0, s_hat)\n",
    "        loss.backward()\n",
    "        optimizer.step()\n",
    "        s_hat.data = th.min(s_0 + l_inf_norm, th.max(s_0 - l_inf_norm, s_hat.data))\n",
    "    \n",
    "    return s_hat.data\n",
    "\n",
    "attack(s_0, loss_fn)"
   ]
  }
 ],
 "metadata": {
  "kernelspec": {
   "display_name": "Python 3",
   "language": "python",
   "name": "python3"
  },
  "language_info": {
   "codemirror_mode": {
    "name": "ipython",
    "version": 3
   },
   "file_extension": ".py",
   "mimetype": "text/x-python",
   "name": "python",
   "nbconvert_exporter": "python",
   "pygments_lexer": "ipython3",
   "version": "3.6.7"
  }
 },
 "nbformat": 4,
 "nbformat_minor": 4
}
