{
 "cells": [
  {
   "cell_type": "code",
   "execution_count": 1,
   "metadata": {},
   "outputs": [],
   "source": [
    "%load_ext autoreload\n",
    "%autoreload 2"
   ]
  },
  {
   "cell_type": "code",
   "execution_count": 2,
   "metadata": {},
   "outputs": [],
   "source": [
    "import pybullet_envs\n",
    "import gym\n",
    "from NeuralShield.AAAI21.models import loader as attack_loader\n",
    "from NeuralShield.AAAI21.attack.attack import mad_pgd, mad_fgsm\n",
    "from NeuralShield.Utils import loader\n",
    "import numpy as np\n",
    "import torch as th\n",
    "th.set_num_threads(1)"
   ]
  },
  {
   "cell_type": "code",
   "execution_count": 3,
   "metadata": {},
   "outputs": [
    {
     "data": {
      "text/plain": [
       "<BulletWrapper<NormalizedObsWrapper<TimeLimit<AntBulletEnv<AntBulletEnv-v0>>>>>"
      ]
     },
     "execution_count": 3,
     "metadata": {},
     "output_type": "execute_result"
    }
   ],
   "source": [
    "env = loader.get_env(\"AntBulletEnv-v0\", \"ppo2_norm\", reward_type=None)\n",
    "env"
   ]
  },
  {
   "cell_type": "code",
   "execution_count": 4,
   "metadata": {},
   "outputs": [
    {
     "data": {
      "text/plain": [
       "<stable_baselines.ppo2.ppo2.PPO2 at 0x7f86f0daafd0>"
      ]
     },
     "execution_count": 4,
     "metadata": {},
     "output_type": "execute_result"
    }
   ],
   "source": [
    "pi = loader.get_original_policy(\"AntBulletEnv-v0\", \"ppo2_norm\")\n",
    "pi"
   ]
  },
  {
   "cell_type": "code",
   "execution_count": 5,
   "metadata": {},
   "outputs": [
    {
     "data": {
      "text/plain": [
       "ActorNetwork(\n",
       "  (actor): Sequential(\n",
       "    (0): Linear(in_features=28, out_features=16, bias=True)\n",
       "    (1): Tanh()\n",
       "    (2): Linear(in_features=16, out_features=8, bias=True)\n",
       "  )\n",
       ")"
      ]
     },
     "execution_count": 5,
     "metadata": {},
     "output_type": "execute_result"
    }
   ],
   "source": [
    "actor_net = attack_loader.get_actor_net(\"AntBulletEnv-v0\", \"ppo2_norm\")\n",
    "actor_net"
   ]
  },
  {
   "cell_type": "code",
   "execution_count": 6,
   "metadata": {},
   "outputs": [],
   "source": [
    "def random_attack(obs, *args, **kwargs):\n",
    "    l_inf_norm = kwargs.get(\"l_inf_norm\")\n",
    "    return obs + l_inf_norm * np.random.uniform(-1, 1)"
   ]
  },
  {
   "cell_type": "code",
   "execution_count": 7,
   "metadata": {},
   "outputs": [],
   "source": [
    "def simulation(env, pi, actor_net, step_num, rollout_num, attack_fn, attack_freq, attack_kwargs):\n",
    "    rewards = []\n",
    "    unsafe_count = 0\n",
    "\n",
    "    for _ in range(rollout_num):\n",
    "        obs = env.reset()\n",
    "        reward_sum = 0\n",
    "        for _ in range(step_num):\n",
    "            if np.random.random_sample() < attack_freq:\n",
    "                obs = attack_fn(obs, actor_net, **attack_kwargs)\n",
    "            action, _ = pi.predict(obs)\n",
    "            obs, r, d, info = env.step(action)\n",
    "            if r <= -100:\n",
    "                unsafe_count += 1\n",
    "                r = 0\n",
    "            reward_sum += 3000 * r\n",
    "        rewards.append(reward_sum)\n",
    "\n",
    "    return np.mean(rewards), np.std(rewards), unsafe_count"
   ]
  },
  {
   "cell_type": "code",
   "execution_count": 8,
   "metadata": {},
   "outputs": [
    {
     "data": {
      "text/plain": [
       "(2129.814543853198, 305.1361697367996, 0)"
      ]
     },
     "execution_count": 8,
     "metadata": {},
     "output_type": "execute_result"
    }
   ],
   "source": [
    "simulation(env, pi, actor_net, 1000, 10, None, 0, {\"l_inf_norm\": 5e-1})"
   ]
  },
  {
   "cell_type": "code",
   "execution_count": 9,
   "metadata": {},
   "outputs": [
    {
     "data": {
      "text/plain": [
       "(1987.0139111606863, 464.5884904209216, 0)"
      ]
     },
     "execution_count": 9,
     "metadata": {},
     "output_type": "execute_result"
    }
   ],
   "source": [
    "simulation(env, pi, actor_net, 1000, 10,\n",
    "           random_attack, 10, {\"l_inf_norm\": 5e-1})"
   ]
  },
  {
   "cell_type": "code",
   "execution_count": 10,
   "metadata": {},
   "outputs": [
    {
     "data": {
      "text/plain": [
       "(976.9753561875528, 524.198383911694, 0)"
      ]
     },
     "execution_count": 10,
     "metadata": {},
     "output_type": "execute_result"
    }
   ],
   "source": [
    "simulation(env, pi, actor_net, 1000, 10, mad_fgsm,\n",
    "           1, {\"l_inf_norm\": 5e-1, \"delta\": 1e-3})"
   ]
  },
  {
   "cell_type": "code",
   "execution_count": 11,
   "metadata": {},
   "outputs": [
    {
     "data": {
      "text/plain": [
       "(1565.9149084402936, 325.2067982236745, 0)"
      ]
     },
     "execution_count": 11,
     "metadata": {},
     "output_type": "execute_result"
    }
   ],
   "source": [
    "simulation(env, pi, actor_net, 1000, 10, mad_pgd,\n",
    "           1, {\"l_inf_norm\": 5e-1, \"lr\": 1e-1})"
   ]
  },
  {
   "cell_type": "markdown",
   "metadata": {},
   "source": [
    "# Test parallelized simulation"
   ]
  },
  {
   "cell_type": "code",
   "execution_count": 12,
   "metadata": {},
   "outputs": [
    {
     "name": "stderr",
     "output_type": "stream",
     "text": [
      "2020-11-04 23:41:12,765\tINFO resource_spec.py:212 -- Starting Ray with 128.17 GiB memory available for workers and up to 58.94 GiB for objects. You can adjust these settings with ray.init(memory=<bytes>, object_store_memory=<bytes>).\n",
      "2020-11-04 23:41:13,034\tWARNING services.py:923 -- Redis failed to start, retrying now.\n",
      "2020-11-04 23:41:13,318\tINFO services.py:1165 -- View the Ray dashboard at \u001b[1m\u001b[32mlocalhost:8266\u001b[39m\u001b[22m\n"
     ]
    }
   ],
   "source": [
    "from simulation import parallelized_simulation\n",
    "import ray\n",
    "ray.init(num_cpus=20, num_gpus=1)"
   ]
  },
  {
   "cell_type": "code",
   "execution_count": 13,
   "metadata": {},
   "outputs": [
    {
     "name": "stdout",
     "output_type": "stream",
     "text": [
      "\u001b[2m\u001b[36m(pid=58647)\u001b[0m pybullet build time: Sep  4 2020 23:44:26\n",
      "\u001b[2m\u001b[36m(pid=58634)\u001b[0m pybullet build time: Sep  4 2020 23:44:26\n",
      "\u001b[2m\u001b[36m(pid=58631)\u001b[0m pybullet build time: Sep  4 2020 23:44:26\n",
      "\u001b[2m\u001b[36m(pid=58651)\u001b[0m pybullet build time: Sep  4 2020 23:44:26\n",
      "\u001b[2m\u001b[36m(pid=58644)\u001b[0m pybullet build time: Sep  4 2020 23:44:26\n",
      "\u001b[2m\u001b[36m(pid=58641)\u001b[0m pybullet build time: Sep  4 2020 23:44:26\n",
      "\u001b[2m\u001b[36m(pid=58637)\u001b[0m pybullet build time: Sep  4 2020 23:44:26\n",
      "\u001b[2m\u001b[36m(pid=58639)\u001b[0m pybullet build time: Sep  4 2020 23:44:26\n",
      "\u001b[2m\u001b[36m(pid=58635)\u001b[0m pybullet build time: Sep  4 2020 23:44:26\n",
      "\u001b[2m\u001b[36m(pid=58632)\u001b[0m pybullet build time: Sep  4 2020 23:44:26\n",
      "\u001b[2m\u001b[36m(pid=58646)\u001b[0m pybullet build time: Sep  4 2020 23:44:26\n",
      "\u001b[2m\u001b[36m(pid=58638)\u001b[0m pybullet build time: Sep  4 2020 23:44:26\n",
      "\u001b[2m\u001b[36m(pid=58633)\u001b[0m pybullet build time: Sep  4 2020 23:44:26\n",
      "\u001b[2m\u001b[36m(pid=58650)\u001b[0m pybullet build time: Sep  4 2020 23:44:26\n",
      "\u001b[2m\u001b[36m(pid=58649)\u001b[0m pybullet build time: Sep  4 2020 23:44:26\n",
      "\u001b[2m\u001b[36m(pid=58645)\u001b[0m pybullet build time: Sep  4 2020 23:44:26\n",
      "\u001b[2m\u001b[36m(pid=58642)\u001b[0m pybullet build time: Sep  4 2020 23:44:26\n",
      "\u001b[2m\u001b[36m(pid=58648)\u001b[0m pybullet build time: Sep  4 2020 23:44:26\n",
      "\u001b[2m\u001b[36m(pid=58636)\u001b[0m pybullet build time: Sep  4 2020 23:44:26\n",
      "\u001b[2m\u001b[36m(pid=58640)\u001b[0m pybullet build time: Sep  4 2020 23:44:26\n"
     ]
    },
    {
     "data": {
      "text/plain": [
       "array([1669.60624348,  141.44894213,    0.        ])"
      ]
     },
     "execution_count": 13,
     "metadata": {},
     "output_type": "execute_result"
    }
   ],
   "source": [
    "parallelized_simulation(\"AntBulletEnv-v0\", \"ppo2_norm\", actor_net, 1000,\n",
    "                        1000, mad_fgsm, 1, {\"l_inf_norm\": 5e-1, \"lr\": 1e-1}, thread_number=20)"
   ]
  }
 ],
 "metadata": {
  "kernelspec": {
   "display_name": "Python 3",
   "language": "python",
   "name": "python3"
  },
  "language_info": {
   "codemirror_mode": {
    "name": "ipython",
    "version": 3
   },
   "file_extension": ".py",
   "mimetype": "text/x-python",
   "name": "python",
   "nbconvert_exporter": "python",
   "pygments_lexer": "ipython3",
   "version": "3.6.7"
  }
 },
 "nbformat": 4,
 "nbformat_minor": 4
}
