{
 "cells": [
  {
   "cell_type": "code",
   "execution_count": 1,
   "metadata": {},
   "outputs": [],
   "source": [
    "import pandas as pd\n",
    "import seaborn as sns\n",
    "import numpy as np"
   ]
  },
  {
   "cell_type": "code",
   "execution_count": 2,
   "metadata": {},
   "outputs": [],
   "source": [
    "from simulation.simulation import parallelized_simulation_attack_state\n",
    "from attack.attack import mad_fgsm, mad_pgd\n",
    "from NeuralShield.AAAI21.models import loader\n",
    "from NeuralShield.hyperparameter import benchmarks"
   ]
  },
  {
   "cell_type": "code",
   "execution_count": 3,
   "metadata": {},
   "outputs": [
    {
     "name": "stderr",
     "output_type": "stream",
     "text": [
      "2020-11-05 12:07:28,649\tINFO resource_spec.py:212 -- Starting Ray with 121.48 GiB memory available for workers and up to 56.07 GiB for objects. You can adjust these settings with ray.init(memory=<bytes>, object_store_memory=<bytes>).\n",
      "2020-11-05 12:07:28,774\tWARNING services.py:923 -- Redis failed to start, retrying now.\n",
      "2020-11-05 12:07:29,023\tWARNING services.py:923 -- Redis failed to start, retrying now.\n",
      "2020-11-05 12:07:29,437\tINFO services.py:1165 -- View the Ray dashboard at \u001b[1m\u001b[32mlocalhost:8267\u001b[39m\u001b[22m\n"
     ]
    }
   ],
   "source": [
    "import ray\n",
    "_ = ray.init(num_cpus=50, num_gpus=1)"
   ]
  },
  {
   "cell_type": "code",
   "execution_count": 4,
   "metadata": {
    "scrolled": true
   },
   "outputs": [
    {
     "name": "stdout",
     "output_type": "stream",
     "text": [
      "\u001b[2m\u001b[36m(pid=12901)\u001b[0m pybullet build time: Sep  4 2020 23:44:26\n",
      "\u001b[2m\u001b[36m(pid=12941)\u001b[0m pybullet build time: Sep  4 2020 23:44:26\n",
      "\u001b[2m\u001b[36m(pid=12924)\u001b[0m pybullet build time: Sep  4 2020 23:44:26\n",
      "\u001b[2m\u001b[36m(pid=12911)\u001b[0m pybullet build time: Sep  4 2020 23:44:26\n",
      "\u001b[2m\u001b[36m(pid=13036)\u001b[0m pybullet build time: Sep  4 2020 23:44:26\n",
      "\u001b[2m\u001b[36m(pid=12946)\u001b[0m pybullet build time: Sep  4 2020 23:44:26\n",
      "\u001b[2m\u001b[36m(pid=13023)\u001b[0m pybullet build time: Sep  4 2020 23:44:26\n",
      "\u001b[2m\u001b[36m(pid=13021)\u001b[0m pybullet build time: Sep  4 2020 23:44:26\n",
      "\u001b[2m\u001b[36m(pid=12920)\u001b[0m pybullet build time: Sep  4 2020 23:44:26\n",
      "\u001b[2m\u001b[36m(pid=12907)\u001b[0m pybullet build time: Sep  4 2020 23:44:26\n",
      "\u001b[2m\u001b[36m(pid=12906)\u001b[0m pybullet build time: Sep  4 2020 23:44:26\n",
      "\u001b[2m\u001b[36m(pid=12913)\u001b[0m pybullet build time: Sep  4 2020 23:44:26\n",
      "\u001b[2m\u001b[36m(pid=12927)\u001b[0m pybullet build time: Sep  4 2020 23:44:26\n",
      "\u001b[2m\u001b[36m(pid=13232)\u001b[0m pybullet build time: Sep  4 2020 23:44:26\n",
      "\u001b[2m\u001b[36m(pid=12926)\u001b[0m pybullet build time: Sep  4 2020 23:44:26\n",
      "\u001b[2m\u001b[36m(pid=12944)\u001b[0m pybullet build time: Sep  4 2020 23:44:26\n",
      "\u001b[2m\u001b[36m(pid=12933)\u001b[0m pybullet build time: Sep  4 2020 23:44:26\n",
      "\u001b[2m\u001b[36m(pid=12939)\u001b[0m pybullet build time: Sep  4 2020 23:44:26\n",
      "\u001b[2m\u001b[36m(pid=12902)\u001b[0m pybullet build time: Sep  4 2020 23:44:26\n",
      "\u001b[2m\u001b[36m(pid=12908)\u001b[0m pybullet build time: Sep  4 2020 23:44:26\n",
      "\u001b[2m\u001b[36m(pid=12921)\u001b[0m pybullet build time: Sep  4 2020 23:44:26\n",
      "\u001b[2m\u001b[36m(pid=12932)\u001b[0m pybullet build time: Sep  4 2020 23:44:26\n",
      "\u001b[2m\u001b[36m(pid=13230)\u001b[0m pybullet build time: Sep  4 2020 23:44:26\n",
      "\u001b[2m\u001b[36m(pid=12947)\u001b[0m pybullet build time: Sep  4 2020 23:44:26\n",
      "\u001b[2m\u001b[36m(pid=13123)\u001b[0m pybullet build time: Sep  4 2020 23:44:26\n",
      "\u001b[2m\u001b[36m(pid=12899)\u001b[0m pybullet build time: Sep  4 2020 23:44:26\n",
      "\u001b[2m\u001b[36m(pid=12938)\u001b[0m pybullet build time: Sep  4 2020 23:44:26\n",
      "\u001b[2m\u001b[36m(pid=12922)\u001b[0m pybullet build time: Sep  4 2020 23:44:26\n",
      "\u001b[2m\u001b[36m(pid=13020)\u001b[0m pybullet build time: Sep  4 2020 23:44:26\n",
      "\u001b[2m\u001b[36m(pid=12930)\u001b[0m pybullet build time: Sep  4 2020 23:44:26\n",
      "\u001b[2m\u001b[36m(pid=12937)\u001b[0m pybullet build time: Sep  4 2020 23:44:26\n",
      "\u001b[2m\u001b[36m(pid=13238)\u001b[0m pybullet build time: Sep  4 2020 23:44:26\n",
      "\u001b[2m\u001b[36m(pid=12923)\u001b[0m pybullet build time: Sep  4 2020 23:44:26\n",
      "\u001b[2m\u001b[36m(pid=12943)\u001b[0m pybullet build time: Sep  4 2020 23:44:26\n",
      "\u001b[2m\u001b[36m(pid=12909)\u001b[0m pybullet build time: Sep  4 2020 23:44:26\n",
      "\u001b[2m\u001b[36m(pid=13233)\u001b[0m pybullet build time: Sep  4 2020 23:44:26\n",
      "\u001b[2m\u001b[36m(pid=13234)\u001b[0m pybullet build time: Sep  4 2020 23:44:26\n",
      "\u001b[2m\u001b[36m(pid=12925)\u001b[0m pybullet build time: Sep  4 2020 23:44:26\n",
      "\u001b[2m\u001b[36m(pid=12898)\u001b[0m pybullet build time: Sep  4 2020 23:44:26\n",
      "\u001b[2m\u001b[36m(pid=12903)\u001b[0m pybullet build time: Sep  4 2020 23:44:26\n",
      "\u001b[2m\u001b[36m(pid=12929)\u001b[0m pybullet build time: Sep  4 2020 23:44:26\n",
      "\u001b[2m\u001b[36m(pid=12928)\u001b[0m pybullet build time: Sep  4 2020 23:44:26\n",
      "\u001b[2m\u001b[36m(pid=13229)\u001b[0m pybullet build time: Sep  4 2020 23:44:26\n",
      "\u001b[2m\u001b[36m(pid=12905)\u001b[0m pybullet build time: Sep  4 2020 23:44:26\n",
      "\u001b[2m\u001b[36m(pid=12900)\u001b[0m pybullet build time: Sep  4 2020 23:44:26\n",
      "\u001b[2m\u001b[36m(pid=12910)\u001b[0m pybullet build time: Sep  4 2020 23:44:26\n",
      "\u001b[2m\u001b[36m(pid=12912)\u001b[0m pybullet build time: Sep  4 2020 23:44:26\n",
      "\u001b[2m\u001b[36m(pid=12931)\u001b[0m pybullet build time: Sep  4 2020 23:44:26\n",
      "\u001b[2m\u001b[36m(pid=12904)\u001b[0m pybullet build time: Sep  4 2020 23:44:26\n",
      "\u001b[2m\u001b[36m(pid=12942)\u001b[0m pybullet build time: Sep  4 2020 23:44:26\n"
     ]
    }
   ],
   "source": [
    "fgsm_res = {}\n",
    "for env_name in benchmarks:\n",
    "    if \"BulletEnv\" in env_name:\n",
    "        for algo in benchmarks[env_name][\"algos\"]:\n",
    "            if \"a2c\" in algo or \"ppo\" in algo:\n",
    "                actor_net = loader.get_actor_net(env_name, algo)\n",
    "                ret = parallelized_simulation(env_name, algo, actor_net, 1000,\n",
    "                                              1000, mad_fgsm, 1, {\"l_inf_norm\": 5e-1}, thread_number=50)\n",
    "                fgsm_res[f\"{env_name}/{algo}\"] = ret"
   ]
  },
  {
   "cell_type": "code",
   "execution_count": 5,
   "metadata": {
    "scrolled": true
   },
   "outputs": [],
   "source": [
    "baseline_res = {}\n",
    "for env_name in benchmarks:\n",
    "    if \"BulletEnv\" in env_name:\n",
    "        for algo in benchmarks[env_name][\"algos\"]:\n",
    "            if \"a2c\" in algo or \"ppo\" in algo:\n",
    "                actor_net = loader.get_actor_net(env_name, algo)\n",
    "                ret = parallelized_simulation(env_name, algo, actor_net, 1000,\n",
    "                                              1000, mad_fgsm, 0, {\"l_inf_norm\": 5e-1}, thread_number=50)\n",
    "                baseline_res[f\"{env_name}/{algo}\"] = ret"
   ]
  },
  {
   "cell_type": "code",
   "execution_count": 13,
   "metadata": {
    "scrolled": true
   },
   "outputs": [],
   "source": [
    "pgd_res = {}\n",
    "for env_name in benchmarks:\n",
    "    if \"BulletEnv\" in env_name:\n",
    "        for algo in benchmarks[env_name][\"algos\"]:\n",
    "            if \"a2c\" in algo or \"ppo\" in algo:\n",
    "                actor_net = loader.get_actor_net(env_name, algo)\n",
    "                ret = parallelized_simulation(env_name, algo, actor_net, 1000,\n",
    "                                              1000, mad_pgd, 1, {\"l_inf_norm\": 5e-1, \"lr\": 1e-1}, thread_number=50)\n",
    "                pgd_res[f\"{env_name}/{algo}\"] = ret"
   ]
  },
  {
   "cell_type": "code",
   "execution_count": 7,
   "metadata": {},
   "outputs": [],
   "source": [
    "baseline_df = pd.DataFrame.from_dict(baseline_res, orient=\"index\", columns=[\n",
    "                                     \"reward mean\", \"reward std\", \"unsafe states found\"])\n",
    "baseline_df.insert(3, \"attack\", None)\n",
    "df_fgsm = pd.DataFrame.from_dict(fgsm_res, orient=\"index\", columns=[\n",
    "                                 \"reward mean\", \"reward std\", \"unsafe states found\"])\n",
    "df_fgsm.insert(3, \"attack\", \"MAD-FGSM\")\n",
    "df_pgd = pd.DataFrame.from_dict(pgd_res, orient=\"index\", columns=[\n",
    "                                \"reward mean\", \"reward std\", \"unsafe states found\"])\n",
    "df_pgd.insert(3, \"attack\", \"MAD-PGD\")\n",
    "df3 = pd.concat([baseline_df, df_fgsm, df_pgd])\n",
    "df3.sort_index()"
   ]
  }
 ],
 "metadata": {
  "kernelspec": {
   "display_name": "Python 3",
   "language": "python",
   "name": "python3"
  },
  "language_info": {
   "codemirror_mode": {
    "name": "ipython",
    "version": 3
   },
   "file_extension": ".py",
   "mimetype": "text/x-python",
   "name": "python",
   "nbconvert_exporter": "python",
   "pygments_lexer": "ipython3",
   "version": "3.6.7"
  }
 },
 "nbformat": 4,
 "nbformat_minor": 4
}
