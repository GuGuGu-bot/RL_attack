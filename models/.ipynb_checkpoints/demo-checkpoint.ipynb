{
 "cells": [
  {
   "cell_type": "code",
   "execution_count": 1,
   "metadata": {},
   "outputs": [
    {
     "name": "stdout",
     "output_type": "stream",
     "text": [
      "stable_baseline version: 2.9.0a0\n",
      "tensorflow version: 1.15.0\n"
     ]
    }
   ],
   "source": [
    "from NeuralShield.Utils import loader\n",
    "import numpy as np\n",
    "\n",
    "import stable_baselines as sb\n",
    "print(f\"stable_baseline version: {sb.__version__}\")\n",
    "import tensorflow as tf\n",
    "print(f\"tensorflow version: {tf.__version__}\")"
   ]
  },
  {
   "cell_type": "markdown",
   "metadata": {},
   "source": [
    "## Load pretrained policy\n",
    "The [model zoo](https://github.com/araffin/rl-baselines-zoo) is trained with [stable-baselines](https://stable-baselines.readthedocs.io/en/master/).   \n"
   ]
  },
  {
   "cell_type": "code",
   "execution_count": 2,
   "metadata": {},
   "outputs": [
    {
     "data": {
      "text/plain": [
       "<stable_baselines.ppo2.ppo2.PPO2 at 0x7fb128202588>"
      ]
     },
     "execution_count": 2,
     "metadata": {},
     "output_type": "execute_result"
    }
   ],
   "source": [
    "pi = loader.get_original_policy(\"AntBulletEnv-v0\", \"ppo2\")\n",
    "\n",
    "pi"
   ]
  },
  {
   "cell_type": "markdown",
   "metadata": {},
   "source": [
    "## Get parameters and backward propagation"
   ]
  },
  {
   "cell_type": "code",
   "execution_count": 14,
   "metadata": {},
   "outputs": [
    {
     "name": "stdout",
     "output_type": "stream",
     "text": [
      "['model/pi_fc0/w:0', 'model/pi_fc0/b:0', 'model/vf_fc0/w:0', 'model/vf_fc0/b:0', 'model/vf/w:0', 'model/vf/b:0', 'model/pi/w:0', 'model/pi/b:0', 'model/pi/logstd:0', 'model/q/w:0', 'model/q/b:0']\n"
     ]
    }
   ],
   "source": [
    "params = pi.get_parameters()\n",
    "print([k for k in params])"
   ]
  },
  {
   "cell_type": "code",
   "execution_count": 18,
   "metadata": {},
   "outputs": [],
   "source": [
    "writer = tf.summary.FileWriter(\"./cp_graph\", pi.sess.graph)\n",
    "pi.predict(np.zeros(28, dtype=np.float32))\n",
    "writer.close()"
   ]
  },
  {
   "cell_type": "markdown",
   "metadata": {},
   "source": [
    "### Output distribution is Gaussian distribution"
   ]
  },
  {
   "cell_type": "code",
   "execution_count": 4,
   "metadata": {},
   "outputs": [
    {
     "data": {
      "text/plain": [
       "<stable_baselines.common.distributions.DiagGaussianProbabilityDistribution at 0x7fb05dbdf208>"
      ]
     },
     "execution_count": 4,
     "metadata": {},
     "output_type": "execute_result"
    }
   ],
   "source": [
    "pi.act_model.proba_distribution"
   ]
  },
  {
   "cell_type": "markdown",
   "metadata": {},
   "source": [
    "### Actor neural network"
   ]
  },
  {
   "cell_type": "code",
   "execution_count": 5,
   "metadata": {},
   "outputs": [],
   "source": [
    "import torch as th\n",
    "from torch import nn"
   ]
  },
  {
   "cell_type": "code",
   "execution_count": 19,
   "metadata": {},
   "outputs": [],
   "source": [
    "class ActorNetwork(nn.Module):\n",
    "    def __init__(self, weights, biases, logstd=None, action_scale=1.0):\n",
    "        super(ActorNetwork, self).__init__()\n",
    "        \n",
    "        layers = []\n",
    "        for w, b in zip(weights, biases):\n",
    "            layer = nn.Linear(*w.shape)\n",
    "            layer.weight.data = th.tensor(w.T, dtype=layer.weight.data.dtype)\n",
    "            layer.bias.data = th.tensor(b, dtype=layer.bias.data.dtype)\n",
    "            layers.append(layer)\n",
    "            layers.append(nn.Tanh())\n",
    "        \n",
    "        layers.pop()\n",
    "        \n",
    "        self.actor = nn.Sequential(*layers)\n",
    "        self.logstd = logstd\n",
    "    \n",
    "    def forward(self, x):\n",
    "        return self.actor(x)"
   ]
  },
  {
   "cell_type": "code",
   "execution_count": 21,
   "metadata": {},
   "outputs": [
    {
     "data": {
      "text/plain": [
       "tensor([ 0.5848,  0.7180, -0.0198, -0.1675, -0.2798, -0.3186, -0.4818,  0.7939],\n",
       "       grad_fn=<AddBackward0>)"
      ]
     },
     "execution_count": 21,
     "metadata": {},
     "output_type": "execute_result"
    }
   ],
   "source": [
    "weights = []\n",
    "biases = []\n",
    "logstd = None\n",
    "\n",
    "for k in params:\n",
    "    scopes = k.split(\"/\")\n",
    "    if \"pi\" in scopes[-2]:\n",
    "        if \"w\" in scopes[-1]:\n",
    "            weights.append(params[k])\n",
    "        if \"b\" in scopes[-1]:\n",
    "            biases.append(params[k])\n",
    "        if \"logstd\" in scopes[-1]:\n",
    "            logstd = params[k]\n",
    "\n",
    "actor_net = ActorNetwork(weights, biases)\n",
    "actor_net(th.from_numpy(np.zeros(28, dtype=np.float32)))"
   ]
  },
  {
   "cell_type": "code",
   "execution_count": 8,
   "metadata": {},
   "outputs": [
    {
     "data": {
      "text/plain": [
       "(array([ 0.5847716 ,  0.7179805 , -0.01980111, -0.16752051, -0.2798085 ,\n",
       "        -0.31864387, -0.4818455 ,  0.7939162 ], dtype=float32), None)"
      ]
     },
     "execution_count": 8,
     "metadata": {},
     "output_type": "execute_result"
    }
   ],
   "source": [
    "pi.predict(np.zeros(28, dtype=np.float32), deterministic=True)"
   ]
  }
 ],
 "metadata": {
  "kernelspec": {
   "display_name": "Python 3",
   "language": "python",
   "name": "python3"
  },
  "language_info": {
   "codemirror_mode": {
    "name": "ipython",
    "version": 3
   },
   "file_extension": ".py",
   "mimetype": "text/x-python",
   "name": "python",
   "nbconvert_exporter": "python",
   "pygments_lexer": "ipython3",
   "version": "3.6.7"
  }
 },
 "nbformat": 4,
 "nbformat_minor": 4
}
